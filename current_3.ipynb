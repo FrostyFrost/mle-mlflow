{
 "cells": [
  {
   "cell_type": "code",
   "execution_count": 1,
   "metadata": {},
   "outputs": [],
   "source": [
    "import os\n",
    "import mlflow\n",
    "import pandas as pd\n",
    "import psycopg"
   ]
  },
  {
   "cell_type": "code",
   "execution_count": 2,
   "metadata": {},
   "outputs": [],
   "source": [
    "os.environ[\"DB_DESTINATION_HOST\"] = os.getenv(\"DB_DESTINATION_HOST\")\n",
    "os.environ[\"DB_DESTINATION_PORT\"] = os.getenv(\"DB_DESTINATION_PORT\")\n",
    "os.environ[\"DB_DESTINATION_NAME\"] = os.getenv(\"DB_DESTINATION_NAME\")\n",
    "os.environ[\"DB_DESTINATION_USER\"] = os.getenv(\"DB_DESTINATION_USER\")\n",
    "os.environ[\"DB_DESTINATION_PASSWORD\"] = os.getenv(\"DB_DESTINATION_PASSWORD\")"
   ]
  },
  {
   "cell_type": "code",
   "execution_count": 3,
   "metadata": {},
   "outputs": [],
   "source": [
    "connection = {\"sslmode\": \"require\", \"target_session_attrs\": \"read-write\"}\n",
    "postgres_credentials = {\n",
    "    \"host\": os.environ[\"DB_DESTINATION_HOST\"], \n",
    "    \"port\": os.environ[\"DB_DESTINATION_PORT\"],\n",
    "    \"dbname\": os.environ[\"DB_DESTINATION_NAME\"],\n",
    "    \"user\": os.environ[\"DB_DESTINATION_USER\"],\n",
    "    \"password\": os.environ[\"DB_DESTINATION_PASSWORD\"],\n",
    "}\n",
    "assert all([var_value != \"\" for var_value in list(postgres_credentials.values())])\n",
    "\n",
    "connection.update(postgres_credentials)\n",
    "\n",
    "# определим название таблицы, в которой хранятся наши данные.\n",
    "TABLE_NAME = \"users_churn\"\n",
    "\n",
    "# эта конструкция создаёт контекстное управление для соединения с базой данных \n",
    "# оператор with гарантирует, что соединение будет корректно закрыто после выполнения всех операций \n",
    "# закрыто оно будет даже в случае ошибки, чтобы не допустить \"утечку памяти\"\n",
    "with psycopg.connect(**connection) as conn:\n",
    "\n",
    "# создаёт объект курсора для выполнения запросов к базе данных\n",
    "# с помощью метода execute() выполняется SQL-запрос для выборки данных из таблицы TABLE_NAME\n",
    "    with conn.cursor() as cur:\n",
    "        cur.execute(f\"SELECT * FROM {TABLE_NAME}\")\n",
    "                \n",
    "                # извлекаем все строки, полученные в результате выполнения запроса\n",
    "        data = cur.fetchall()\n",
    "\n",
    "                # получает список имён столбцов из объекта курсора\n",
    "        columns = [col[0] for col in cur.description]\n",
    "\n",
    "# создаёт объект DataFrame из полученных данных и имён столбцов. \n",
    "# это позволяет удобно работать с данными в Python, используя библиотеку Pandas.\n",
    "df = pd.DataFrame(data, columns=columns)"
   ]
  },
  {
   "cell_type": "code",
   "execution_count": 4,
   "metadata": {},
   "outputs": [
    {
     "name": "stdout",
     "output_type": "stream",
     "text": [
      "id\n",
      "customer_id\n",
      "begin_date\n",
      "end_date\n",
      "type\n",
      "paperless_billing\n",
      "payment_method\n",
      "monthly_charges\n",
      "total_charges\n",
      "internet_service\n",
      "online_security\n",
      "online_backup\n",
      "device_protection\n",
      "tech_support\n",
      "streaming_tv\n",
      "streaming_movies\n",
      "gender\n",
      "senior_citizen\n",
      "partner\n",
      "dependents\n",
      "multiple_lines\n",
      "target\n"
     ]
    }
   ],
   "source": [
    "#сохранить список названий столбцов в строку\n",
    "for i in df.columns.values:\n",
    "    print(i)\n",
    "\n"
   ]
  },
  {
   "cell_type": "code",
   "execution_count": 5,
   "metadata": {},
   "outputs": [],
   "source": [
    "with open(\"columns.txt\", \"w\", encoding=\"utf-8\") as fio:\n",
    "    fio.write(','.join(df.columns.values.tolist()))\n",
    "   "
   ]
  },
  {
   "cell_type": "code",
   "execution_count": 6,
   "metadata": {},
   "outputs": [
    {
     "data": {
      "text/plain": [
       "'id,customer_id,begin_date,end_date,type,paperless_billing,payment_method,monthly_charges,total_charges,internet_service,online_security,online_backup,device_protection,tech_support,streaming_tv,streaming_movies,gender,senior_citizen,partner,dependents,multiple_lines,target'"
      ]
     },
     "execution_count": 6,
     "metadata": {},
     "output_type": "execute_result"
    }
   ],
   "source": [
    "','.join(df.columns.values.tolist())"
   ]
  },
  {
   "cell_type": "code",
   "execution_count": 7,
   "metadata": {},
   "outputs": [
    {
     "name": "stdout",
     "output_type": "stream",
     "text": [
      "{'type_Month-to-month': 3875, 'type_Two year': 1695, 'type_One year': 1473}\n",
      "{'paperless_billing_Yes': 4171, 'paperless_billing_No': 2872}\n",
      "{'internet_service_Fiber optic': 3096, 'internet_service_DSL': 2421}\n",
      "{'online_security_No': 3498, 'online_security_Yes': 2019}\n",
      "{'online_backup_No': 3088, 'online_backup_Yes': 2429}\n",
      "{'device_protection_No': 3095, 'device_protection_Yes': 2422}\n",
      "{'tech_support_No': 3473, 'tech_support_Yes': 2044}\n",
      "{'streaming_tv_No': 2810, 'streaming_tv_Yes': 2707}\n",
      "{'streaming_movies_No': 2785, 'streaming_movies_Yes': 2732}\n",
      "{'gender_Male': 3555, 'gender_Female': 3488}\n",
      "{'senior_citizen_0': 5901, 'senior_citizen_1': 1142}\n",
      "{'partner_No': 3641, 'partner_Yes': 3402}\n",
      "{'dependents_No': 4933, 'dependents_Yes': 2110}\n",
      "{'multiple_lines_No': 3390, 'multiple_lines_Yes': 2971}\n",
      "{'target_0': 5174, 'target_1': 1869}\n"
     ]
    }
   ],
   "source": [
    "counts_columns = [\n",
    "    \"type\", \"paperless_billing\", \"internet_service\", \"online_security\", \"online_backup\", \"device_protection\",\n",
    "    \"tech_support\", \"streaming_tv\", \"streaming_movies\", \"gender\", \"senior_citizen\", \"partner\", \"dependents\",\n",
    "    \"multiple_lines\", \"target\"\n",
    "]\n",
    "\n",
    "stats = {}\n",
    "\n",
    "for col in counts_columns:\n",
    "\t\t# посчитайте уникальные значения для колонок, где немного уникальных значений (переменная counts_columns)\n",
    "    column_stat = df[col].value_counts()\n",
    "    column_stat = {f\"{col}_{key}\": value for key, value in column_stat.items()}\n",
    "    print(column_stat)\n",
    "    stats.update(column_stat)\n",
    "\n",
    "\n",
    "stats[\"data_length\"] = df.shape[0]\n",
    "stats[\"monthly_charges_min\"] = df[\"monthly_charges\"].min()\n",
    "stats[\"monthly_charges_max\"] = df[\"monthly_charges\"].max() # посчитайте максимальное значение в колонке\n",
    "stats[\"monthly_charges_mean\"] = df[\"monthly_charges\"].mean() # посчитайте среднее значение в колонке\n",
    "stats[\"monthly_charges_median\"] = df[\"monthly_charges\"].median() # посчитайте медианное значение в колонке\n",
    "stats[\"total_charges_min\"] = df[\"total_charges\"].min() # посчитайте минимальное значение в колонке\n",
    "stats[\"total_charges_max\"] = df[\"total_charges\"].max() # посчитайте максимальное значение в колонке\n",
    "stats[\"total_charges_mean\"] = df[\"total_charges\"].mean() # посчитайте среднее значение в колонке\n",
    "stats[\"total_charges_median\"] = df[\"total_charges\"].median() # посчитайте медианное значение в колонке\n",
    "stats[\"unique_customers_number\"] = df[\"customer_id\"].nunique() # посчитайте кол-во уникальных id\n",
    "stats[\"end_date_nan\"] = df[\"end_date\"].isna().sum() # посчитайте кол-во пустых строк в колонке\n"
   ]
  },
  {
   "cell_type": "code",
   "execution_count": 8,
   "metadata": {},
   "outputs": [
    {
     "data": {
      "text/plain": [
       "5174"
      ]
     },
     "execution_count": 8,
     "metadata": {},
     "output_type": "execute_result"
    }
   ],
   "source": [
    "df[\"end_date\"].isna().sum()"
   ]
  },
  {
   "cell_type": "code",
   "execution_count": 9,
   "metadata": {},
   "outputs": [
    {
     "data": {
      "text/plain": [
       "{'type_Month-to-month': 3875,\n",
       " 'type_Two year': 1695,\n",
       " 'type_One year': 1473,\n",
       " 'paperless_billing_Yes': 4171,\n",
       " 'paperless_billing_No': 2872,\n",
       " 'internet_service_Fiber optic': 3096,\n",
       " 'internet_service_DSL': 2421,\n",
       " 'online_security_No': 3498,\n",
       " 'online_security_Yes': 2019,\n",
       " 'online_backup_No': 3088,\n",
       " 'online_backup_Yes': 2429,\n",
       " 'device_protection_No': 3095,\n",
       " 'device_protection_Yes': 2422,\n",
       " 'tech_support_No': 3473,\n",
       " 'tech_support_Yes': 2044,\n",
       " 'streaming_tv_No': 2810,\n",
       " 'streaming_tv_Yes': 2707,\n",
       " 'streaming_movies_No': 2785,\n",
       " 'streaming_movies_Yes': 2732,\n",
       " 'gender_Male': 3555,\n",
       " 'gender_Female': 3488,\n",
       " 'senior_citizen_0': 5901,\n",
       " 'senior_citizen_1': 1142,\n",
       " 'partner_No': 3641,\n",
       " 'partner_Yes': 3402,\n",
       " 'dependents_No': 4933,\n",
       " 'dependents_Yes': 2110,\n",
       " 'multiple_lines_No': 3390,\n",
       " 'multiple_lines_Yes': 2971,\n",
       " 'target_0': 5174,\n",
       " 'target_1': 1869,\n",
       " 'data_length': 7043,\n",
       " 'monthly_charges_min': 18.25,\n",
       " 'monthly_charges_max': 118.75,\n",
       " 'monthly_charges_mean': 64.76169246059918,\n",
       " 'monthly_charges_median': 70.35,\n",
       " 'total_charges_min': 18.8,\n",
       " 'total_charges_max': 8684.8,\n",
       " 'total_charges_mean': 2283.3004408418656,\n",
       " 'total_charges_median': 1397.475,\n",
       " 'unique_customers_number': 7043,\n",
       " 'end_date_nan': 5174}"
      ]
     },
     "execution_count": 9,
     "metadata": {},
     "output_type": "execute_result"
    }
   ],
   "source": [
    "#посчитайте кол-во пустых строк в колонке\n",
    "stats\n"
   ]
  },
  {
   "cell_type": "code",
   "execution_count": 10,
   "metadata": {},
   "outputs": [],
   "source": [
    "df.to_csv(\"users_churn.csv\", index=False)"
   ]
  },
  {
   "cell_type": "code",
   "execution_count": 11,
   "metadata": {},
   "outputs": [],
   "source": [
    "# задаём название эксперимента и имя запуска для логирования в MLflow\n",
    "\n",
    "EXPERIMENT_NAME = \"churn_fio\"\n",
    "RUN_NAME = \"data_check\"\n",
    "\n",
    "# создаём новый эксперимент в MLflow с указанным названием \n",
    "# если эксперимент с таким именем уже существует, \n",
    "# MLflow возвращает идентификатор существующего эксперимента\n",
    "experiment_id = mlflow.create_experiment(EXPERIMENT_NAME) # ваш код здесь\n",
    "\n",
    "with mlflow.start_run(run_name=RUN_NAME, experiment_id=experiment_id) as run:\n",
    "    # получаем уникальный идентификатор запуска эксперимента\n",
    "    run_id = run.info.run_id # ваш код здесь\n",
    "    \n",
    "    # логируем метрики эксперимента\n",
    "    # предполагается, что переменная stats содержит словарь с метриками,\n",
    "    # где ключи — это названия метрик, а значения — числовые значения метрик\n",
    "    mlflow.log_metrics(stats) # ваш код здесь\n",
    "    \n",
    "    # логируем файлы как артефакты эксперимента — 'columns.txt' и 'users_churn.csv'\n",
    "    mlflow.log_artifact('columns.txt', \"dataframe\")  # ваш код здесь\n",
    "    mlflow.log_artifact('users_churn.csv', \"dataframe\")  # ваш код здесь\n",
    "\n",
    "\n",
    "experiment = mlflow.get_experiment_by_name(EXPERIMENT_NAME)\n",
    "# получаем данные о запуске эксперимента по его уникальному идентификатору\n",
    "run = mlflow.get_run(run_id) # ваш код здесь\n",
    "\n",
    "\n",
    "# проверяем, что статус запуска эксперимента изменён на 'FINISHED'\n",
    "# это утверждение (assert) можно использовать для автоматической проверки того, \n",
    "# что эксперимент был завершён успешно\n",
    "assert (run.info.status =='FINISHED')# ваш код здесь\n",
    "\n",
    "# удаляем файлы 'columns.txt' и 'users_churn.csv' из файловой системы,\n",
    "# чтобы очистить рабочую среду после логирования артефактов\n",
    "os.remove('columns.txt') # ваш код здесь\n",
    "os.remove('users_churn.csv') # ваш код здесьcsv"
   ]
  },
  {
   "cell_type": "code",
   "execution_count": 23,
   "metadata": {},
   "outputs": [
    {
     "data": {
      "text/plain": [
       "[<Experiment: artifact_location='file:///home/andrey/work/MLE/mle-mlflow/mlruns/477980246858346885', creation_time=1711612482269, experiment_id='477980246858346885', last_update_time=1711612482269, lifecycle_stage='active', name='churn_fio', tags={}>,\n",
       " <Experiment: artifact_location='file:///home/andrey/work/MLE/mle-mlflow/mlruns/306879251168284368', creation_time=1711611736572, experiment_id='306879251168284368', last_update_time=1711611736572, lifecycle_stage='active', name='churn_Andrey2', tags={}>,\n",
       " <Experiment: artifact_location='file:///home/andrey/work/MLE/mle-mlflow/mlruns/428528985635553178', creation_time=1711611719641, experiment_id='428528985635553178', last_update_time=1711611719641, lifecycle_stage='active', name='churn_Andrey1', tags={}>,\n",
       " <Experiment: artifact_location='file:///home/andrey/work/MLE/mle-mlflow/mlruns/320194216947062806', creation_time=1711609525482, experiment_id='320194216947062806', last_update_time=1711609525482, lifecycle_stage='active', name='churn_Andrey', tags={}>,\n",
       " <Experiment: artifact_location='file:///home/andrey/work/MLE/mle-mlflow/mlruns/0', creation_time=1711609525476, experiment_id='0', last_update_time=1711609525476, lifecycle_stage='active', name='Default', tags={}>]"
      ]
     },
     "execution_count": 23,
     "metadata": {},
     "output_type": "execute_result"
    }
   ],
   "source": [
    "\n",
    "mlflow.search_experiments()"
   ]
  },
  {
   "cell_type": "code",
   "execution_count": 22,
   "metadata": {},
   "outputs": [
    {
     "data": {
      "text/html": [
       "<div>\n",
       "<style scoped>\n",
       "    .dataframe tbody tr th:only-of-type {\n",
       "        vertical-align: middle;\n",
       "    }\n",
       "\n",
       "    .dataframe tbody tr th {\n",
       "        vertical-align: top;\n",
       "    }\n",
       "\n",
       "    .dataframe thead th {\n",
       "        text-align: right;\n",
       "    }\n",
       "</style>\n",
       "<table border=\"1\" class=\"dataframe\">\n",
       "  <thead>\n",
       "    <tr style=\"text-align: right;\">\n",
       "      <th></th>\n",
       "      <th>run_id</th>\n",
       "      <th>experiment_id</th>\n",
       "      <th>status</th>\n",
       "      <th>artifact_uri</th>\n",
       "      <th>start_time</th>\n",
       "      <th>end_time</th>\n",
       "      <th>metrics.unique_customers_number</th>\n",
       "      <th>metrics.total_charges_mean</th>\n",
       "      <th>metrics.total_charges_min</th>\n",
       "      <th>metrics.partner_No</th>\n",
       "      <th>...</th>\n",
       "      <th>metrics.streaming_tv_Yes</th>\n",
       "      <th>metrics.internet_service_Fiber optic</th>\n",
       "      <th>metrics.senior_citizen_1</th>\n",
       "      <th>metrics.dependents_No</th>\n",
       "      <th>metrics.senior_citizen_0</th>\n",
       "      <th>tags.mlflow.source.git.commit</th>\n",
       "      <th>tags.mlflow.source.name</th>\n",
       "      <th>tags.mlflow.user</th>\n",
       "      <th>tags.mlflow.runName</th>\n",
       "      <th>tags.mlflow.source.type</th>\n",
       "    </tr>\n",
       "  </thead>\n",
       "  <tbody>\n",
       "    <tr>\n",
       "      <th>0</th>\n",
       "      <td>08467bb39ab649bb9509056eb7e8d6c9</td>\n",
       "      <td>477980246858346885</td>\n",
       "      <td>FINISHED</td>\n",
       "      <td>file:///home/andrey/work/MLE/mle-mlflow/mlruns...</td>\n",
       "      <td>2024-03-28 07:55:57.959000+00:00</td>\n",
       "      <td>2024-03-28 07:55:58.005000+00:00</td>\n",
       "      <td>NaN</td>\n",
       "      <td>NaN</td>\n",
       "      <td>NaN</td>\n",
       "      <td>NaN</td>\n",
       "      <td>...</td>\n",
       "      <td>NaN</td>\n",
       "      <td>NaN</td>\n",
       "      <td>NaN</td>\n",
       "      <td>NaN</td>\n",
       "      <td>NaN</td>\n",
       "      <td>f1fb1b4bc5d5c8814c8275a7a71dc09119f0be96</td>\n",
       "      <td>/home/andrey/work/MLE/mle-mlflow/.venv_mlflow/...</td>\n",
       "      <td>andrey</td>\n",
       "      <td>data_check</td>\n",
       "      <td>LOCAL</td>\n",
       "    </tr>\n",
       "    <tr>\n",
       "      <th>1</th>\n",
       "      <td>89ef3a445f824616978ebd1e786bebcc</td>\n",
       "      <td>477980246858346885</td>\n",
       "      <td>FINISHED</td>\n",
       "      <td>file:///home/andrey/work/MLE/mle-mlflow/mlruns...</td>\n",
       "      <td>2024-03-28 07:54:42.308000+00:00</td>\n",
       "      <td>2024-03-28 07:54:42.328000+00:00</td>\n",
       "      <td>7043.0</td>\n",
       "      <td>2283.300441</td>\n",
       "      <td>18.8</td>\n",
       "      <td>3641.0</td>\n",
       "      <td>...</td>\n",
       "      <td>2707.0</td>\n",
       "      <td>3096.0</td>\n",
       "      <td>1142.0</td>\n",
       "      <td>4933.0</td>\n",
       "      <td>5901.0</td>\n",
       "      <td>f1fb1b4bc5d5c8814c8275a7a71dc09119f0be96</td>\n",
       "      <td>/home/andrey/work/MLE/mle-mlflow/.venv_mlflow/...</td>\n",
       "      <td>andrey</td>\n",
       "      <td>data_check</td>\n",
       "      <td>LOCAL</td>\n",
       "    </tr>\n",
       "  </tbody>\n",
       "</table>\n",
       "<p>2 rows × 53 columns</p>\n",
       "</div>"
      ],
      "text/plain": [
       "                             run_id       experiment_id    status   \n",
       "0  08467bb39ab649bb9509056eb7e8d6c9  477980246858346885  FINISHED  \\\n",
       "1  89ef3a445f824616978ebd1e786bebcc  477980246858346885  FINISHED   \n",
       "\n",
       "                                        artifact_uri   \n",
       "0  file:///home/andrey/work/MLE/mle-mlflow/mlruns...  \\\n",
       "1  file:///home/andrey/work/MLE/mle-mlflow/mlruns...   \n",
       "\n",
       "                        start_time                         end_time   \n",
       "0 2024-03-28 07:55:57.959000+00:00 2024-03-28 07:55:58.005000+00:00  \\\n",
       "1 2024-03-28 07:54:42.308000+00:00 2024-03-28 07:54:42.328000+00:00   \n",
       "\n",
       "   metrics.unique_customers_number  metrics.total_charges_mean   \n",
       "0                              NaN                         NaN  \\\n",
       "1                           7043.0                 2283.300441   \n",
       "\n",
       "   metrics.total_charges_min  metrics.partner_No  ...   \n",
       "0                        NaN                 NaN  ...  \\\n",
       "1                       18.8              3641.0  ...   \n",
       "\n",
       "   metrics.streaming_tv_Yes  metrics.internet_service_Fiber optic   \n",
       "0                       NaN                                   NaN  \\\n",
       "1                    2707.0                                3096.0   \n",
       "\n",
       "   metrics.senior_citizen_1  metrics.dependents_No  metrics.senior_citizen_0   \n",
       "0                       NaN                    NaN                       NaN  \\\n",
       "1                    1142.0                 4933.0                    5901.0   \n",
       "\n",
       "              tags.mlflow.source.git.commit   \n",
       "0  f1fb1b4bc5d5c8814c8275a7a71dc09119f0be96  \\\n",
       "1  f1fb1b4bc5d5c8814c8275a7a71dc09119f0be96   \n",
       "\n",
       "                             tags.mlflow.source.name  tags.mlflow.user   \n",
       "0  /home/andrey/work/MLE/mle-mlflow/.venv_mlflow/...            andrey  \\\n",
       "1  /home/andrey/work/MLE/mle-mlflow/.venv_mlflow/...            andrey   \n",
       "\n",
       "   tags.mlflow.runName  tags.mlflow.source.type  \n",
       "0           data_check                    LOCAL  \n",
       "1           data_check                    LOCAL  \n",
       "\n",
       "[2 rows x 53 columns]"
      ]
     },
     "execution_count": 22,
     "metadata": {},
     "output_type": "execute_result"
    }
   ],
   "source": []
  }
 ],
 "metadata": {
  "kernelspec": {
   "display_name": ".venv_mlflow",
   "language": "python",
   "name": "python3"
  },
  "language_info": {
   "codemirror_mode": {
    "name": "ipython",
    "version": 3
   },
   "file_extension": ".py",
   "mimetype": "text/x-python",
   "name": "python",
   "nbconvert_exporter": "python",
   "pygments_lexer": "ipython3",
   "version": "3.10.12"
  }
 },
 "nbformat": 4,
 "nbformat_minor": 2
}
